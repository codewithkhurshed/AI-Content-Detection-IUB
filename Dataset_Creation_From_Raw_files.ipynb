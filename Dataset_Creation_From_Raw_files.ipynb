{
  "nbformat": 4,
  "nbformat_minor": 0,
  "metadata": {
    "colab": {
      "provenance": []
    },
    "kernelspec": {
      "name": "python3",
      "display_name": "Python 3"
    },
    "language_info": {
      "name": "python"
    }
  },
  "cells": [
    {
      "cell_type": "code",
      "execution_count": 1,
      "metadata": {
        "colab": {
          "base_uri": "https://localhost:8080/"
        },
        "id": "B5kmYBAgdIq8",
        "outputId": "52714cf5-d6f9-4609-fdc7-48437336727a"
      },
      "outputs": [
        {
          "output_type": "stream",
          "name": "stdout",
          "text": [
            "Collecting PyPDF2\n",
            "  Downloading pypdf2-3.0.1-py3-none-any.whl (232 kB)\n",
            "\u001b[2K     \u001b[90m━━━━━━━━━━━━━━━━━━━━━━━━━━━━━━━━━━━━━━━━\u001b[0m \u001b[32m232.6/232.6 kB\u001b[0m \u001b[31m1.7 MB/s\u001b[0m eta \u001b[36m0:00:00\u001b[0m\n",
            "\u001b[?25hInstalling collected packages: PyPDF2\n",
            "Successfully installed PyPDF2-3.0.1\n"
          ]
        }
      ],
      "source": [
        "!pip install PyPDF2"
      ]
    },
    {
      "cell_type": "code",
      "source": [
        "#AI Data"
      ],
      "metadata": {
        "id": "pcDOFKRvgGIi"
      },
      "execution_count": null,
      "outputs": []
    },
    {
      "cell_type": "code",
      "source": [
        "import PyPDF2\n",
        "import pandas as pd\n",
        "\n",
        "def extract_text_from_pdf(pdf_path):\n",
        "    with open(pdf_path, 'rb') as file:\n",
        "        reader = PyPDF2.PdfReader(file)\n",
        "        text = ''\n",
        "        for page in reader.pages:\n",
        "            text += page.extract_text()\n",
        "    return text\n",
        "\n",
        "def split_text_into_chunks(text, chunk_size):\n",
        "    words = text.split()\n",
        "    chunks = [' '.join(words[i:i + chunk_size]) for i in range(0, len(words), chunk_size)]\n",
        "    return chunks\n",
        "\n",
        "def create_csv_from_chunks(chunks, output_csv_path):\n",
        "    data = {'Text': chunks, 'Label': ['AI generated'] * len(chunks)}\n",
        "    df = pd.DataFrame(data)\n",
        "    df.to_csv(output_csv_path, index=False)\n",
        "\n",
        "pdf_path = '/content/AI Generated raw.pdf'\n",
        "output_csv_path = 'main_chunk500.csv'\n",
        "\n",
        "\n",
        "text = extract_text_from_pdf(pdf_path)\n",
        "\n",
        "\n",
        "chunks = split_text_into_chunks(text, 500)\n",
        "\n",
        "\n",
        "create_csv_from_chunks(chunks, output_csv_path)"
      ],
      "metadata": {
        "id": "C5QsZulvdr-Y"
      },
      "execution_count": 7,
      "outputs": []
    },
    {
      "cell_type": "code",
      "source": [
        "#Non AI Data"
      ],
      "metadata": {
        "id": "SfHMIkdwgLVD"
      },
      "execution_count": null,
      "outputs": []
    },
    {
      "cell_type": "code",
      "source": [
        "import PyPDF2\n",
        "import pandas as pd\n",
        "\n",
        "def extract_text_from_pdf(pdf_path):\n",
        "    with open(pdf_path, 'rb') as file:\n",
        "        reader = PyPDF2.PdfReader(file)\n",
        "        text = ''\n",
        "        for page in reader.pages:\n",
        "            text += page.extract_text()\n",
        "    return text\n",
        "\n",
        "def split_text_into_chunks(text, chunk_size):\n",
        "    words = text.split()\n",
        "    chunks = [' '.join(words[i:i + chunk_size]) for i in range(0, len(words), chunk_size)]\n",
        "    return chunks\n",
        "\n",
        "def create_csv_from_chunks(chunks, output_csv_path):\n",
        "    data = {'Text': chunks, 'Label': ['Non AI generated'] * len(chunks)}\n",
        "    df = pd.DataFrame(data)\n",
        "    df.to_csv(output_csv_path, index=False)\n",
        "\n",
        "pdf_path = '/content/non-ai-data.pdf'\n",
        "output_csv_path = 'mainnonAI_chunk500.csv'\n",
        "\n",
        "\n",
        "text = extract_text_from_pdf(pdf_path)\n",
        "\n",
        "\n",
        "chunks = split_text_into_chunks(text, 500)\n",
        "\n",
        "\n",
        "create_csv_from_chunks(chunks, output_csv_path)"
      ],
      "metadata": {
        "id": "xW0uOX_1gNMx"
      },
      "execution_count": 8,
      "outputs": []
    }
  ]
}